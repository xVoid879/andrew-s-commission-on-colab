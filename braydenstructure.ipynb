{
  "cells": [
    {
      "cell_type": "markdown",
      "source": [
        "Run all commands from top to button one at a time and read ALL the instructions including the readme https://github.com/Brayden11250/general_seedcracker/tree/main"
      ],
      "metadata": {
        "id": "iGlzrsrcNGQd"
      }
    },
    {
      "cell_type": "code",
      "source": [
        "!wget https://github.com/Brayden11250/general_seedcracker/blob/main/general_seedcracker.cu > /dev/null 2>&1"
      ],
      "metadata": {
        "id": "-eVI_NfpOWfn"
      },
      "execution_count": null,
      "outputs": []
    },
    {
      "cell_type": "code",
      "source": [
        "%%writefile hi2.txt"
      ],
      "metadata": {
        "id": "5jV9WBk1OX-u"
      },
      "execution_count": null,
      "outputs": []
    },
    {
      "cell_type": "markdown",
      "source": [
        "(If you want to use a modified version of it, change the content of the cuda file, then run this command)"
      ],
      "metadata": {
        "id": "0IQh1H51N8RC"
      }
    },
    {
      "cell_type": "code",
      "source": [
        "!nvcc -o main general_seedcracker.cu -O3 -arch=sm_75 -std=c++17"
      ],
      "metadata": {
        "id": "mDjxwfrcNyA4"
      },
      "execution_count": null,
      "outputs": []
    },
    {
      "cell_type": "markdown",
      "source": [
        "Put your info in hi2.txt (Read the Readme at the top for instructions)"
      ],
      "metadata": {
        "id": "r1-sVYc8OEnI"
      }
    },
    {
      "cell_type": "code",
      "source": [
        "!./main hi2.txt"
      ],
      "metadata": {
        "id": "kMzmcQn4OOIA"
      },
      "execution_count": null,
      "outputs": []
    },
    {
      "cell_type": "markdown",
      "source": [
        "Make sure that hi2.txt doesn't have extra spaces"
      ],
      "metadata": {
        "id": "MpgF6DivOs5O"
      }
    }
  ],
  "metadata": {
    "colab": {
      "name": "Welcome To Colab",
      "provenance": [],
      "gpuType": "T4"
    },
    "kernelspec": {
      "display_name": "Python 3",
      "name": "python3"
    },
    "accelerator": "GPU"
  },
  "nbformat": 4,
  "nbformat_minor": 0
}