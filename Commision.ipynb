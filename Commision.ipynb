{
  "cells": [
    {
      "cell_type": "markdown",
      "source": [
        "Click the icon on the left side bar that looks like a folder. Then right-click the empty space area, click upload, then upload the zip file. (If right-clicking does nothing, wait for a minute to load). Then, click the buttons from top to button following the instructions (make sure to only run one command at a time)"
      ],
      "metadata": {
        "id": "n6WgLQwqlSZx"
      }
    },
    {
      "cell_type": "markdown",
      "source": [
        "**UPLOAD THE ZIP FILE (If you renamed it, change the name of the zip file to what you named it.)**"
      ],
      "metadata": {
        "id": "kxKJ4DFfeJF9"
      }
    },
    {
      "cell_type": "code",
      "source": [
        "!unzip cuda.zip"
      ],
      "metadata": {
        "id": "aZZax02PWO1C"
      },
      "execution_count": null,
      "outputs": []
    },
    {
      "cell_type": "markdown",
      "source": [
        "**RUN THIS COMMAND (SHOULD TAKE AROUND 30 SECONDS)**"
      ],
      "metadata": {
        "id": "A7YN4AD-eUhv"
      }
    },
    {
      "cell_type": "markdown",
      "source": [
        "        (Running the command below does it for large biomes. To switch it, replace LARGE_BIOMES=1 to LARGE_BIOMES=0)"
      ],
      "metadata": {
        "id": "3PWS3FDYkCrn"
      }
    },
    {
      "cell_type": "code",
      "source": [
        "!nvcc src/main.cpp src/cpu.cpp src/gpu.cu src/cubiomes.c \\\n",
        "    src/client.cpp src/server.cpp \\\n",
        "    cubiomes/biomenoise.c cubiomes/biomes.c cubiomes/finders.c \\\n",
        "    cubiomes/generator.c cubiomes/layers.c cubiomes/noise.c \\\n",
        "    -o main \\\n",
        "    -O3 -std=c++20 -I asio/asio/include \\\n",
        "    --expt-relaxed-constexpr --default-stream per-thread \\\n",
        "    -DOMISSION_LARGE_BIOMES=1 \\\n",
        "    -arch=sm_75"
      ],
      "metadata": {
        "id": "JAEu2NVvWfzR"
      },
      "execution_count": null,
      "outputs": []
    },
    {
      "cell_type": "markdown",
      "source": [
        "**Now Run this Command to run**"
      ],
      "metadata": {
        "id": "XCF9UPxkehEI"
      }
    },
    {
      "cell_type": "code",
      "source": [
        "!./main"
      ],
      "metadata": {
        "id": "J6pWggA6SnXr",
        "outputId": "5056882f-4179-43b8-8965-b7ec617bb049",
        "colab": {
          "base_uri": "https://localhost:8080/"
        }
      },
      "execution_count": null,
      "outputs": [
        {
          "output_type": "stream",
          "name": "stdout",
          "text": [
            "/bin/bash: line 1: ./main: No such file or directory\n"
          ]
        }
      ]
    }
  ],
  "metadata": {
    "colab": {
      "provenance": [],
      "gpuType": "T4"
    },
    "kernelspec": {
      "display_name": "Python 3",
      "name": "python3"
    },
    "accelerator": "GPU"
  },
  "nbformat": 4,
  "nbformat_minor": 0
}